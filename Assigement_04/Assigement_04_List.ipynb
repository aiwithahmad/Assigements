{
 "cells": [
  {
   "cell_type": "markdown",
   "id": "3c74faaf-1964-4fe6-b34e-c4affaf14339",
   "metadata": {},
   "source": [
    "### 1. Write a program that accepts a list from user and print the alternate element of list. \n"
   ]
  },
  {
   "cell_type": "code",
   "execution_count": 17,
   "id": "5aca8923-ceaf-48a8-8cec-12de3efbbbe3",
   "metadata": {},
   "outputs": [
    {
     "name": "stdin",
     "output_type": "stream",
     "text": [
      "Enter elements seprated by space: A B C D E F G\n"
     ]
    },
    {
     "name": "stdout",
     "output_type": "stream",
     "text": [
      "Alternate elemnts are:\n",
      "A\n",
      "C\n",
      "E\n",
      "G\n"
     ]
    }
   ],
   "source": [
    "# Accept a list from user\n",
    "user_input = input(\"Enter elements seprated by space:\")\n",
    "# Convert input into a list\n",
    "my_list = user_input.split()\n",
    "\n",
    "print(\"Alternate elemnts are:\")\n",
    "for i in range(0, len(my_list), 2):\n",
    "    print(my_list[i])\n"
   ]
  },
  {
   "cell_type": "markdown",
   "id": "8f0bd9d6-a678-4a3d-9d53-2cfd7ada5afb",
   "metadata": {},
   "source": [
    "### 2. Write a program that accepts a list from user. Your program should reverse the content of list and display it. Do not use reverse() method. \n"
   ]
  },
  {
   "cell_type": "code",
   "execution_count": 24,
   "id": "50ab2ee4-041b-48c8-8276-82b6c359f032",
   "metadata": {},
   "outputs": [
    {
     "name": "stdin",
     "output_type": "stream",
     "text": [
      "Enter elements seprated by space: A B C D E\n"
     ]
    },
    {
     "name": "stdout",
     "output_type": "stream",
     "text": [
      "Reversed List: ['E', 'D', 'C', 'B', 'A']\n"
     ]
    }
   ],
   "source": [
    "user_input = input(\"Enter elements seprated by space:\")\n",
    "\n",
    "my_list = user_input.split()\n",
    "\n",
    "reversed_list = my_list[::-1]\n",
    "print(\"Reversed List:\",reversed_list)"
   ]
  },
  {
   "cell_type": "markdown",
   "id": "2dfe9da1-24df-45d8-839e-d0ffae6b4ab3",
   "metadata": {},
   "source": [
    "###  3. Find and display the largest number of a list without using built-in function max(). Your program should ask the user to input values in list from keyboard"
   ]
  },
  {
   "cell_type": "code",
   "execution_count": 24,
   "id": "d94964c5-34d1-416d-8c04-c7f062dcffc4",
   "metadata": {},
   "outputs": [
    {
     "name": "stdin",
     "output_type": "stream",
     "text": [
      "Enter elements seprated by space: 5 6 9 5 85 69 \n"
     ]
    },
    {
     "name": "stdout",
     "output_type": "stream",
     "text": [
      "The largest num is: 85\n"
     ]
    }
   ],
   "source": [
    "# Accept a list from user\n",
    "user_input = input(\"Enter elements seprated by space:\")\n",
    "# Convert input string into list of integers\n",
    "my_list = list(map(int,user_input.split()))\n",
    "# Assume first element is largest\n",
    "largest = my_list[0]\n",
    "# Loop to find largest\n",
    "for num in my_list:\n",
    "    if num > largest:\n",
    "        largest = num\n",
    "    \n",
    "print(\"The largest num is:\",largest)"
   ]
  },
  {
   "cell_type": "markdown",
   "id": "50074dcc-482e-4c11-aafc-d917a130162c",
   "metadata": {},
   "source": [
    "### 4. Write a program that rotates the element of a list so that the element at the first index moves to the second index, the element in the second index moves to the third index, etc., and the element in the last index moves to the first index. "
   ]
  },
  {
   "cell_type": "code",
   "execution_count": 29,
   "id": "531eabf1-3a6c-4526-b833-adb18d0536ab",
   "metadata": {},
   "outputs": [
    {
     "name": "stdin",
     "output_type": "stream",
     "text": [
      "Enter elements seprated by space : A B C D\n"
     ]
    },
    {
     "name": "stdout",
     "output_type": "stream",
     "text": [
      "Rotated list : ['D', 'A', 'B', 'C']\n"
     ]
    }
   ],
   "source": [
    "# Accept a list from user\n",
    "user_input = input(\"Enter elements seprated by space :\")\n",
    "# Convert input into list\n",
    "my_list = user_input.split()\n",
    "# Rotation logic:\n",
    "rotated_list = [my_list[-1]] + my_list[:-1]\n",
    "\n",
    "print(\"Rotated list :\",rotated_list)"
   ]
  },
  {
   "cell_type": "markdown",
   "id": "e6a2bc2f-6652-4dab-b10b-873de3ba3dc1",
   "metadata": {},
   "source": [
    "### 5. Write a program that input a string and ask user to delete a given word from a string. \n"
   ]
  },
  {
   "cell_type": "code",
   "execution_count": 38,
   "id": "9d2b45e9-59c8-4a61-8ef7-be59c7d0ee30",
   "metadata": {},
   "outputs": [
    {
     "name": "stdin",
     "output_type": "stream",
     "text": [
      "Enter a string : I like play football\n",
      "Enter the word you want to delete:  play\n"
     ]
    },
    {
     "name": "stdout",
     "output_type": "stream",
     "text": [
      "String after deleting word: I like football\n"
     ]
    }
   ],
   "source": [
    "text = input(\"Enter a string :\")\n",
    "word_tO_delete = input(\"Enter the word you want to delete: \")\n",
    "\n",
    "words = text.split()\n",
    "\n",
    "if word_tO_delete in words:\n",
    "    words.remove(word_tO_delete)\n",
    "\n",
    "new_text = \" \".join(words)\n",
    "print(\"String after deleting word:\", new_text)"
   ]
  },
  {
   "cell_type": "markdown",
   "id": "ebc1406c-d931-4f12-ad70-2b4bd2843e96",
   "metadata": {},
   "source": [
    "###  6. Write a program that reads a string from the user containing a date in the form mm/dd/yyyy. It should print the date in the form March 12, 2021. \n"
   ]
  },
  {
   "cell_type": "code",
   "execution_count": 46,
   "id": "ed526439-c796-4b51-ac29-fa9c4fba50d2",
   "metadata": {},
   "outputs": [
    {
     "name": "stdin",
     "output_type": "stream",
     "text": [
      "Enter date mm/dd/yy : 12/03/2012\n"
     ]
    },
    {
     "name": "stdout",
     "output_type": "stream",
     "text": [
      "December 3, 2012\n"
     ]
    }
   ],
   "source": [
    "# Input date from user in mm/dd/yyyy format\n",
    "date_input = input(\"Enter date mm/dd/yy :\")\n",
    "\n",
    "# Split the string by \"/\"\n",
    "month,day,year = date_input.split(\"/\")\n",
    "\n",
    "# List of month names (index 0 = January, but month-1 use karenge)\n",
    "months = [\"January\", \"February\", \"March\", \"April\", \"May\", \"June\",\n",
    "          \"July\", \"August\", \"September\", \"October\", \"November\", \"December\"]\n",
    "\n",
    "# Convert month into name\n",
    "month_name = months[int(month) - 1] \n",
    "# Print in required format\n",
    "print(f\"{month_name} {int(day)}, {year}\")"
   ]
  },
  {
   "cell_type": "markdown",
   "id": "d280d825-d835-4247-974e-7f49280b1714",
   "metadata": {},
   "source": [
    "### 7. Write a program with a function that accepts a string from keyboard and create a new string after converting character of each word capitalized. For instance, if the sentence is \"stop and smell the roses.\" the output should be \"Stop And Smell The Roses\" "
   ]
  },
  {
   "cell_type": "code",
   "execution_count": 53,
   "id": "335b0664-b86e-4c8e-8da5-e69923944882",
   "metadata": {},
   "outputs": [
    {
     "name": "stdin",
     "output_type": "stream",
     "text": [
      "Enter a sentence:  stop and smell the roses\n"
     ]
    },
    {
     "name": "stdout",
     "output_type": "stream",
     "text": [
      "Output: Stop And Smell The Roses\n"
     ]
    }
   ],
   "source": [
    "# Function to capitalize each word\n",
    "def capitalize_words(text):\n",
    "    # Split into words\n",
    "    words = text.split()\n",
    "    \n",
    "    # Capitalize each word\n",
    "    capitalized_words = [word.capitalize() for word in words]\n",
    "    # Join back into a sentence\n",
    "    return \" \".join(capitalized_words)\n",
    "    \n",
    "# Main program\n",
    "sentence = input(\"Enter a sentence: \")\n",
    "result = capitalize_words(sentence)\n",
    "print(\"Output:\", result)"
   ]
  },
  {
   "attachments": {},
   "cell_type": "markdown",
   "id": "11e8f571-7a7b-44b1-b10f-8e7d471cd942",
   "metadata": {},
   "source": [
    "### 8. Find the sum of each row of matrix of size m x n. For example for the following matrix output will be like this:\n",
    "2 11 7 12\n",
    "5 2  9 15\n",
    "8 3 10 42\n",
    "Sum of row 1 = 32\n",
    "Sum of row 2 = 31\n",
    "Sum of row 3 = 63"
   ]
  },
  {
   "cell_type": "code",
   "execution_count": 54,
   "id": "2d55d87a-a5fb-4294-be75-3df5a3b145c4",
   "metadata": {},
   "outputs": [
    {
     "name": "stdout",
     "output_type": "stream",
     "text": [
      "Sum of row 1 = 32\n",
      "Sum of row 2 = 31\n",
      "Sum of row 3 = 63\n"
     ]
    }
   ],
   "source": [
    "# Matrix banayi\n",
    "matrix = [\n",
    "    [2, 11, 7, 12],\n",
    "    [5, 2, 9, 15],\n",
    "    [8, 3, 10, 42]\n",
    "]\n",
    "\n",
    "# Har row ka sum\n",
    "for i in range(len(matrix)):\n",
    "    row_sum = sum(matrix[i])\n",
    "    print(\"Sum of row\", i+1, \"=\", row_sum)\n"
   ]
  },
  {
   "cell_type": "markdown",
   "id": "1491ce3c-5af8-49e9-949a-7400d1f1657d",
   "metadata": {},
   "source": [
    "### 9. Write a program to add two matrices of size n x m. "
   ]
  },
  {
   "cell_type": "code",
   "execution_count": null,
   "id": "d330d2dd-ad5a-4fe4-bdb7-65a5216cdcc9",
   "metadata": {},
   "outputs": [],
   "source": [
    "## Input size\n",
    "n = int(input(\"Enter number of rows (n): \"))\n",
    "m = int(input(\"Enter number of columns (m): \"))\n",
    "\n",
    "# First matrix input\n",
    "print(\"Enter elements of first matrix:\")\n",
    "matrix1 = []\n",
    "for i in range(n):\n",
    "    row = list(map(int, input(f\"Enter {m} numbers for row {i+1}: \").split()))\n",
    "    matrix1.append(row)\n",
    "\n",
    "# Second matrix input\n",
    "print(\"Enter elements of second matrix:\")\n",
    "matrix2 = []\n",
    "for i in range(n):\n",
    "    row = list(map(int, input(f\"Enter {m} numbers for row {i+1}: \").split()))\n",
    "    matrix2.append(row)\n",
    "\n",
    "# Matrix addition\n",
    "result = []\n",
    "for i in range(n):\n",
    "    row = []\n",
    "    for j in range(m):\n",
    "        row.append(matrix1[i][j] + matrix2[i][j])\n",
    "    result.append(row)\n",
    "\n",
    "# Output result\n",
    "print(\"Resultant Matrix (Sum):\")\n",
    "for row in result:\n",
    "    print(row)\n"
   ]
  },
  {
   "cell_type": "markdown",
   "id": "6f5e600b-3d21-4572-908f-c0cba0b60cfb",
   "metadata": {},
   "source": [
    "### 10. Write a program to multiply two matrices "
   ]
  },
  {
   "cell_type": "code",
   "execution_count": 4,
   "id": "91900c94-b587-44af-b928-22eb155996c4",
   "metadata": {},
   "outputs": [
    {
     "name": "stdout",
     "output_type": "stream",
     "text": [
      "Result of Matrix Multiplication:\n",
      "[58, 64]\n",
      "[139, 154]\n"
     ]
    }
   ],
   "source": [
    "# Program to multiply two matrices\n",
    "\n",
    "# Define two matrices\n",
    "A = [[1, 2, 3],\n",
    "     [4, 5, 6]]\n",
    "\n",
    "B = [[7, 8],\n",
    "     [9, 10],\n",
    "     [11, 12]]\n",
    "\n",
    "# Result matrix with zeros (size: rows of A x columns of B)\n",
    "result = [[0 for _ in range(len(B[0]))] for _ in range(len(A))]\n",
    "\n",
    "# Matrix multiplication\n",
    "for i in range(len(A)):           # iterate through rows of A\n",
    "    for j in range(len(B[0])):    # iterate through columns of B\n",
    "        for k in range(len(B)):   # iterate through rows of B\n",
    "            result[i][j] += A[i][k] * B[k][j]\n",
    "\n",
    "# Display result\n",
    "print(\"Result of Matrix Multiplication:\")\n",
    "for row in result:\n",
    "    print(row)\n"
   ]
  },
  {
   "cell_type": "code",
   "execution_count": null,
   "id": "f6974068-6714-4739-83f2-b93f6a9b7aa7",
   "metadata": {},
   "outputs": [],
   "source": []
  }
 ],
 "metadata": {
  "kernelspec": {
   "display_name": "Python [conda env:base] *",
   "language": "python",
   "name": "conda-base-py"
  },
  "language_info": {
   "codemirror_mode": {
    "name": "ipython",
    "version": 3
   },
   "file_extension": ".py",
   "mimetype": "text/x-python",
   "name": "python",
   "nbconvert_exporter": "python",
   "pygments_lexer": "ipython3",
   "version": "3.13.5"
  }
 },
 "nbformat": 4,
 "nbformat_minor": 5
}

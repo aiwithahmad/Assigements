{
 "cells": [
  {
   "cell_type": "markdown",
   "id": "9263e64a-06eb-4dac-950e-855e7029dbfc",
   "metadata": {},
   "source": [
    "### 1. Write a program that accepts a string from user. Your program should count and display number of vowels in that string"
   ]
  },
  {
   "cell_type": "code",
   "execution_count": 10,
   "id": "5c84a532-af88-427d-af74-43036b614f5d",
   "metadata": {},
   "outputs": [
    {
     "name": "stdin",
     "output_type": "stream",
     "text": [
      "Enter a string:  Ahmad\n"
     ]
    },
    {
     "name": "stdout",
     "output_type": "stream",
     "text": [
      "Number of vowels:  2\n"
     ]
    }
   ],
   "source": [
    "# Take input from user:\n",
    "text = input(\"Enter a string: \")\n",
    "# Define vowels:\n",
    "vowels = \"aeiouAEIOU\"\n",
    "# Initialize counter:\n",
    "count = 0\n",
    "# Loop through each character in string:\n",
    "for char in text:\n",
    "    if char in vowels:\n",
    "        count += 1\n",
    "print(\"Number of vowels: \",count)"
   ]
  },
  {
   "cell_type": "markdown",
   "id": "84de57b0-c331-4d87-9c24-c69f9a2b898c",
   "metadata": {},
   "source": [
    " ### 2. Write a program that reads a string from keyboard and display:\n",
    "* The number of uppercase letters in the string\n",
    "* The number of lowercase letters in the string\n",
    "* The number of digits in the string\n",
    "* The number of whitespace characters in the string"
   ]
  },
  {
   "cell_type": "code",
   "execution_count": 24,
   "id": "693e0380-fc8d-48d9-ab28-64e29f3b9eef",
   "metadata": {},
   "outputs": [
    {
     "name": "stdin",
     "output_type": "stream",
     "text": [
      "Enter a string: Ahmad 2025 cloud\n"
     ]
    },
    {
     "name": "stdout",
     "output_type": "stream",
     "text": [
      "uppercase: 1\n",
      " lowercas: 9\n",
      "Digits: 4\n",
      " whitespace characters: 2\n"
     ]
    }
   ],
   "source": [
    "text = input(\"Enter a string:\")\n",
    "\n",
    "upper_count = 0\n",
    "lower_count = 0 \n",
    "digit_count = 0\n",
    "space_count = 0\n",
    "\n",
    "for char in text:\n",
    "    if char.isupper():\n",
    "        upper_count += 1\n",
    "    elif char.islower():\n",
    "        lower_count += 1\n",
    "    elif char.isdigit():\n",
    "        digit_count += 1\n",
    "    elif char.isspace():\n",
    "        space_count += 1\n",
    "\n",
    "print(\"uppercase:\", upper_count)\n",
    "print(\" lowercas:\", lower_count)\n",
    "print(\"Digits:\", digit_count)\n",
    "print(\" whitespace characters:\", space_count,)"
   ]
  },
  {
   "cell_type": "markdown",
   "id": "2a96d4b6-d79b-4dbc-8413-6095b2ff62a4",
   "metadata": {},
   "source": [
    "###  3. Write a Python program that accepts a string from user. Your program should create and display a new string where the first and last characters have been exchanged.For example if the user enters the string 'HELLO' then new string would be 'OELLH'"
   ]
  },
  {
   "cell_type": "code",
   "execution_count": 15,
   "id": "cec84981-c851-4bf3-a024-91596713b34d",
   "metadata": {},
   "outputs": [
    {
     "name": "stdin",
     "output_type": "stream",
     "text": [
      "Enter a string: HELLO\n"
     ]
    },
    {
     "name": "stdout",
     "output_type": "stream",
     "text": [
      "New string: OELLH\n"
     ]
    }
   ],
   "source": [
    "text = input(\"Enter a string:\")\n",
    "if len(text) > 1:\n",
    "    new_text = text[-1] + text[1:-1] + text[0]\n",
    "\n",
    "else:\n",
    "    new_text = text\n",
    "\n",
    "print(\"New string:\",new_text)"
   ]
  },
  {
   "cell_type": "markdown",
   "id": "9cd66925-56cb-4d1e-b442-1187f4cd892c",
   "metadata": {},
   "source": [
    "### 4. Write a Python program that accepts a string from user. Your program should create a new string in reverse of first string and display it. For example if the user enters the string 'EXAM' then new string would be 'MAXE'\n"
   ]
  },
  {
   "cell_type": "code",
   "execution_count": 40,
   "id": "c85320ad-90f1-406a-b442-ab3cb94a234e",
   "metadata": {},
   "outputs": [
    {
     "name": "stdin",
     "output_type": "stream",
     "text": [
      "Enter a string: EXAM\n"
     ]
    },
    {
     "name": "stdout",
     "output_type": "stream",
     "text": [
      "New strng: MAXE\n"
     ]
    }
   ],
   "source": [
    "text = input(\"Enter a string:\")\n",
    "new_text = text[::-1]\n",
    "print(\"New strng:\",new_text)"
   ]
  },
  {
   "cell_type": "markdown",
   "id": "91f3cd5e-a689-4e99-8d8a-d152f8d562bd",
   "metadata": {},
   "source": [
    "### 5. Write a Python program that accepts a string from user. Your program should create a new string by shifting one position to left. For example if the user enters the string 'examination 2021' then new string would be 'xamination 2021e' \n"
   ]
  },
  {
   "cell_type": "code",
   "execution_count": 52,
   "id": "2bb78a2b-2cb8-41ba-aa9f-7225c26d0e6d",
   "metadata": {},
   "outputs": [
    {
     "name": "stdin",
     "output_type": "stream",
     "text": [
      "Enter a string: examination 2021\n"
     ]
    },
    {
     "name": "stdout",
     "output_type": "stream",
     "text": [
      "New string: xamination 2021e\n"
     ]
    }
   ],
   "source": [
    "text = input(\"Enter a string:\")\n",
    "if len(text) > 1:\n",
    "    new_text = text[1:] + text[0]\n",
    "else:\n",
    "    new_text = text\n",
    "print(\"New string:\",new_text)"
   ]
  },
  {
   "cell_type": "markdown",
   "id": "a2161d56-5a31-4903-81b5-a4822570f1d5",
   "metadata": {},
   "source": [
    "### 6. Write a program that asks the user to input his name and print its initials. Assuming that the user always types first name, middle name and last name and does not include any unnecessary spaces. For example, if the user enters Ajay Kumar Garg the program should display A. K. G. Note:Don't use split() method "
   ]
  },
  {
   "cell_type": "markdown",
   "id": "a6582e09-81af-42d9-a8bf-272d3ed01cd8",
   "metadata": {},
   "source": [
    "#### Python Code (without using split()):"
   ]
  },
  {
   "cell_type": "code",
   "execution_count": 53,
   "id": "69332bea-a478-4b08-832b-b5049c2048ab",
   "metadata": {},
   "outputs": [
    {
     "name": "stdin",
     "output_type": "stream",
     "text": [
      "Enter your full name (First Middle Last):  Ahmad saeed khan\n"
     ]
    },
    {
     "name": "stdout",
     "output_type": "stream",
     "text": [
      "Initials: A. S. K.\n"
     ]
    }
   ],
   "source": [
    "# Program to print initials of a name without using split()\n",
    "\n",
    "name = input(\"Enter your full name (First Middle Last): \")\n",
    "\n",
    "# Initialize initials string\n",
    "initials = \"\"\n",
    "\n",
    "# First character of name hamesha initial hoga\n",
    "initials += name[0].upper() + \". \"\n",
    "\n",
    "# Loop through name\n",
    "for i in range(1, len(name)):\n",
    "    if name[i-1] == \" \":   # agar pehle space ho to next character initial hai\n",
    "        initials += name[i].upper() + \". \"\n",
    "\n",
    "print(\"Initials:\", initials.strip())\n"
   ]
  },
  {
   "cell_type": "markdown",
   "id": "0c8341e9-3b62-4331-8293-305f88f6408f",
   "metadata": {},
   "source": [
    "### 7. A palindrome is a string that reads the same backward as forward. For example, the words dad, madam and radar are all palindromes. Write a programs that determines whether the string is a palindrome. Note: do not use reverse() method \n"
   ]
  },
  {
   "cell_type": "markdown",
   "id": "cee5eb16-34d7-471c-99f8-e1a293c82d88",
   "metadata": {},
   "source": [
    "#### Python Program (without using reverse() method):\n"
   ]
  },
  {
   "cell_type": "code",
   "execution_count": 61,
   "id": "f7310bd1-d43f-4fd1-8c42-0afd912e89cc",
   "metadata": {},
   "outputs": [
    {
     "name": "stdin",
     "output_type": "stream",
     "text": [
      "Enter a string: radar\n"
     ]
    },
    {
     "name": "stdout",
     "output_type": "stream",
     "text": [
      "The string is palindrome:\n"
     ]
    }
   ],
   "source": [
    "text = input(\"Enter a string:\")\n",
    "text = text.lower()\n",
    "reversed_text = text[::-1]\n",
    "if text == reversed_text:\n",
    "    print(\"The string is palindrome:\")\n",
    "else:\n",
    "     print(\"The string is not palindrome:\")"
   ]
  },
  {
   "cell_type": "markdown",
   "id": "512e64a7-ba09-497b-814c-6331ee2d48b8",
   "metadata": {},
   "source": [
    "### 8. Write a program that display following output:\n",
    "- SHIFT\n",
    "- HIFTS\n",
    "- IFTSH\n",
    "- FTSHI\n",
    "- TSHIF\n",
    "- SHIFT \n"
   ]
  },
  {
   "cell_type": "code",
   "execution_count": 72,
   "id": "e183143f-bdbb-40c7-b8a5-b4168c74d54e",
   "metadata": {},
   "outputs": [
    {
     "name": "stdout",
     "output_type": "stream",
     "text": [
      "SHIFT\n",
      "HIFTS\n",
      "IFTSH\n",
      "FTSHI\n",
      "TSHIF\n"
     ]
    }
   ],
   "source": [
    "# Program to display rotated string\n",
    "\n",
    "text = \"SHIFT\"\n",
    "\n",
    "# Loop jitni dafa string ki length hai\n",
    "for i in range(len(text)):\n",
    "    # Rotate string: start from i-th index and add beginning part\n",
    "    rotated = text[i:] + text[:i]\n",
    "    print(rotated)"
   ]
  },
  {
   "cell_type": "markdown",
   "id": "9f6b8cd0-01b8-4d4d-9422-eed89c0ac1d5",
   "metadata": {},
   "source": [
    "### 9. Write a program in python that accepts a string to setup a passwords. Your entered password must meet the following requirements:\n",
    "- The password must be at least eight characters long.\n",
    "- It must contain at least one uppercase letter.\n",
    "- It must contain at least one lowercase letter.\n",
    "- It must contain at least one numeric digit.\n",
    "- Your program should should perform this validation"
   ]
  },
  {
   "cell_type": "code",
   "execution_count": 2,
   "id": "ea2f6353-7fda-4877-9172-fcc9ea5f0256",
   "metadata": {},
   "outputs": [
    {
     "name": "stdin",
     "output_type": "stream",
     "text": [
      "Enter Your Password: Ahedmddd1\n"
     ]
    },
    {
     "name": "stdout",
     "output_type": "stream",
     "text": [
      "Password is valid✅:\n"
     ]
    }
   ],
   "source": [
    "password = input(\"Enter Your Password:\")\n",
    "\n",
    "has_upper = False\n",
    "has_lower = False\n",
    "has_digit = False\n",
    "\n",
    "for char in password:\n",
    "    if char.isupper():\n",
    "        has_upper = True\n",
    "    elif char.islower():\n",
    "        has_lower = True\n",
    "    elif char.isdigit():\n",
    "        has_digit = True\n",
    "\n",
    "if len(password) >= 8 and has_upper and has_lower and has_digit:\n",
    "    print(\"Password is valid✅:\")\n",
    "else:\n",
    "    print(\"Password is invalid ❌\")\n",
    "    print(\"Requirements:\")\n",
    "    print(\"- At least 8 characters\")\n",
    "    print(\"- At least 1 uppercase letter\")\n",
    "    print(\"- At least 1 lowercase letter\")\n",
    "    print(\"- At least 1 digit\")"
   ]
  },
  {
   "cell_type": "code",
   "execution_count": null,
   "id": "a14fb487-9db8-4cb1-a279-de3d0f0a0f7c",
   "metadata": {},
   "outputs": [],
   "source": []
  },
  {
   "cell_type": "code",
   "execution_count": null,
   "id": "8ec88880-8814-4869-8ba4-5c4551fe4e38",
   "metadata": {},
   "outputs": [],
   "source": []
  }
 ],
 "metadata": {
  "kernelspec": {
   "display_name": "Python [conda env:base] *",
   "language": "python",
   "name": "conda-base-py"
  },
  "language_info": {
   "codemirror_mode": {
    "name": "ipython",
    "version": 3
   },
   "file_extension": ".py",
   "mimetype": "text/x-python",
   "name": "python",
   "nbconvert_exporter": "python",
   "pygments_lexer": "ipython3",
   "version": "3.13.5"
  }
 },
 "nbformat": 4,
 "nbformat_minor": 5
}

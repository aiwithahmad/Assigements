{
 "cells": [
  {
   "cell_type": "markdown",
   "id": "c709114c-2131-4d2e-81ad-8aed72cde8b7",
   "metadata": {},
   "source": [
    "### 1. Write a Python program to print the numbers from 1 to 10 using a for loop."
   ]
  },
  {
   "cell_type": "code",
   "execution_count": 1,
   "id": "3cc2ee35-57bf-4564-8052-e51fce588184",
   "metadata": {},
   "outputs": [
    {
     "name": "stdout",
     "output_type": "stream",
     "text": [
      "1\n",
      "2\n",
      "3\n",
      "4\n",
      "5\n",
      "6\n",
      "7\n",
      "8\n",
      "9\n",
      "10\n"
     ]
    }
   ],
   "source": [
    "for i in range(1, 11):   # 1 se start hoga aur 11 se pehle ruk jayega\n",
    "    print(i)\n"
   ]
  },
  {
   "cell_type": "markdown",
   "id": "7f5f08ed-2f6b-4971-82d1-9fdd23ec1427",
   "metadata": {},
   "source": [
    "### 2. Write a Python program to print the numbers from 20 to 1 using a while loop"
   ]
  },
  {
   "cell_type": "code",
   "execution_count": 2,
   "id": "8cca48cc-9008-4a1c-be94-f923f1e6c939",
   "metadata": {},
   "outputs": [
    {
     "name": "stdout",
     "output_type": "stream",
     "text": [
      "20\n",
      "19\n",
      "18\n",
      "17\n",
      "16\n",
      "15\n",
      "14\n",
      "13\n",
      "12\n",
      "11\n",
      "10\n",
      "9\n",
      "8\n",
      "7\n",
      "6\n",
      "5\n",
      "4\n",
      "3\n",
      "2\n",
      "1\n"
     ]
    }
   ],
   "source": [
    "i = 20              # shuruat 20 se\n",
    "while i >= 1:       # jab tak i 1 ya usse bada hai\n",
    "    print(i)\n",
    "    i -= 1          # har step me i ko 1 kam karte rahenge\n"
   ]
  },
  {
   "cell_type": "markdown",
   "id": "ce86a20a-56e7-4282-b9aa-7add557dc5dc",
   "metadata": {},
   "source": [
    "### 3. Write a program to print even numbers from 1 to 10. "
   ]
  },
  {
   "cell_type": "code",
   "execution_count": 3,
   "id": "3945539b-05ca-4792-9201-2d163c8b453f",
   "metadata": {},
   "outputs": [
    {
     "name": "stdout",
     "output_type": "stream",
     "text": [
      "2\n",
      "4\n",
      "6\n",
      "8\n",
      "10\n"
     ]
    }
   ],
   "source": [
    "for i in range(1, 11):   # 1 se 10 tak loop\n",
    "    if i % 2 == 0:       # agar number 2 se divide hota hai\n",
    "        print(i)\n"
   ]
  },
  {
   "cell_type": "markdown",
   "id": "73ac054c-5b32-49bb-b03a-ea8bda5791ea",
   "metadata": {},
   "source": [
    "### 4. Write a program that prompts the user to enter a number n and prints all the numbers from 1 to n"
   ]
  },
  {
   "cell_type": "code",
   "execution_count": 6,
   "id": "591fe9a6-6474-4bcd-b9e6-757c24f264a3",
   "metadata": {},
   "outputs": [
    {
     "name": "stdin",
     "output_type": "stream",
     "text": [
      "Enter a number:  5\n"
     ]
    },
    {
     "name": "stdout",
     "output_type": "stream",
     "text": [
      "1\n",
      "2\n",
      "3\n",
      "4\n",
      "5\n"
     ]
    }
   ],
   "source": [
    "n = int(input(\"Enter a number: \"))   # user se input liya aur int banaya\n",
    "\n",
    "for i in range(1, n+1):   # 1 se n tak loop\n",
    "    print(i)\n"
   ]
  },
  {
   "cell_type": "markdown",
   "id": "17adeca2-aa2d-4d51-9190-3c0d73bbb130",
   "metadata": {},
   "source": [
    "### 5. Write a program that prompts the user to enter a number n, and then prints all the odd numbers between 1 and n. "
   ]
  },
  {
   "cell_type": "code",
   "execution_count": 8,
   "id": "ad67dca6-5404-403d-9e2d-c452066a1a52",
   "metadata": {},
   "outputs": [
    {
     "name": "stdin",
     "output_type": "stream",
     "text": [
      "Enter a number:  9\n"
     ]
    },
    {
     "name": "stdout",
     "output_type": "stream",
     "text": [
      "1\n",
      "3\n",
      "5\n",
      "7\n",
      "9\n"
     ]
    }
   ],
   "source": [
    "n = int(input(\"Enter a number: \"))\n",
    "\n",
    "for i in range(1, n+1):     # 1 se n tak\n",
    "    if i % 2 != 0:          # agar number odd hai\n",
    "        print(i)\n"
   ]
  },
  {
   "cell_type": "markdown",
   "id": "f2f94d91-1588-4fca-a975-fb0f85654a4f",
   "metadata": {},
   "source": [
    "### 6. Write a program that prints 'Happy Birthday!' five times on screen. "
   ]
  },
  {
   "cell_type": "code",
   "execution_count": 9,
   "id": "e3bdbb74-0f0e-4826-98cd-30f071d4aff1",
   "metadata": {},
   "outputs": [
    {
     "name": "stdout",
     "output_type": "stream",
     "text": [
      "Happy Birthday!\n",
      "Happy Birthday!\n",
      "Happy Birthday!\n",
      "Happy Birthday!\n",
      "Happy Birthday!\n"
     ]
    }
   ],
   "source": [
    "for i in range(5):\n",
    "    print(\"Happy Birthday!\")\n"
   ]
  },
  {
   "cell_type": "markdown",
   "id": "c644cdaf-a5fe-4bbb-a963-cd00fd96cd63",
   "metadata": {},
   "source": [
    "### 7. Write a program that takes a number n as input from the user and generates the first n terms of the series formed by squaring the natural numbers.\n",
    "Sample output\n",
    "Enter a number: 6\n",
    "The first 6 terms of the series are:\n",
    "1 4 9 16 25 36 \n"
   ]
  },
  {
   "cell_type": "code",
   "execution_count": 11,
   "id": "a46f5652-90b8-47c6-9711-10db80320522",
   "metadata": {},
   "outputs": [
    {
     "name": "stdin",
     "output_type": "stream",
     "text": [
      "Enter a number:  6\n"
     ]
    },
    {
     "name": "stdout",
     "output_type": "stream",
     "text": [
      "1\n",
      "4\n",
      "9\n",
      "16\n",
      "25\n",
      "36\n"
     ]
    }
   ],
   "source": [
    "n = int(input(\"Enter a number: \"))\n",
    "\n",
    "for i in range(1, n+1):   # 1 se n tak\n",
    "    print(i*i)            # i ka square\n"
   ]
  },
  {
   "cell_type": "markdown",
   "id": "19e6efd4-b631-4039-85ef-d799d305056a",
   "metadata": {},
   "source": [
    "### 8. Write a program that prompts the user to input a number and prints its multiplication table."
   ]
  },
  {
   "cell_type": "code",
   "execution_count": 12,
   "id": "798f0f59-6396-4108-a207-df05071cbd79",
   "metadata": {},
   "outputs": [
    {
     "name": "stdin",
     "output_type": "stream",
     "text": [
      "Enter a number:  2\n"
     ]
    },
    {
     "name": "stdout",
     "output_type": "stream",
     "text": [
      "2 x 1 = 2\n",
      "2 x 2 = 4\n",
      "2 x 3 = 6\n",
      "2 x 4 = 8\n",
      "2 x 5 = 10\n",
      "2 x 6 = 12\n",
      "2 x 7 = 14\n",
      "2 x 8 = 16\n",
      "2 x 9 = 18\n",
      "2 x 10 = 20\n"
     ]
    }
   ],
   "source": [
    "n = int(input(\"Enter a number: \"))\n",
    "\n",
    "for i in range(1, 11):   # 1 se 10 tak table\n",
    "    print(n, \"x\", i, \"=\", n*i)\n"
   ]
  },
  {
   "cell_type": "markdown",
   "id": "7644d9b2-793d-4066-a02c-ed35d268b0e9",
   "metadata": {},
   "source": [
    "### 9. Write a Python program to print the first 8 terms of an arithmetic progression starting with 3 and having a common difference of 4. The program should output the following sequence: 3 7 11 15 19 23 27 31 \n"
   ]
  },
  {
   "cell_type": "code",
   "execution_count": 13,
   "id": "e771996f-a7f5-425f-8058-c314ea6fe5a2",
   "metadata": {},
   "outputs": [
    {
     "name": "stdout",
     "output_type": "stream",
     "text": [
      "3 7 11 15 19 23 27 31 "
     ]
    }
   ],
   "source": [
    "a = 3   # first term\n",
    "d = 4   # common difference\n",
    "\n",
    "for i in range(8):   # 0 se 7 tak (total 8 terms)\n",
    "    term = a + i*d\n",
    "    print(term, end=\" \")\n"
   ]
  },
  {
   "cell_type": "markdown",
   "id": "5b884a49-864a-49c7-b136-c6e533a39d60",
   "metadata": {},
   "source": [
    "### 10. Write a Python program to print the first 6 terms of a geometric sequence starting with 2 and having a common ratio of 3. The program should output the following sequence: 2 6 18 54 162 486 \n"
   ]
  },
  {
   "cell_type": "code",
   "execution_count": 14,
   "id": "5bdf9063-5867-4a94-a9ca-29caf7014249",
   "metadata": {},
   "outputs": [
    {
     "name": "stdout",
     "output_type": "stream",
     "text": [
      "2 6 18 54 162 486 "
     ]
    }
   ],
   "source": [
    "a = 2   # first term\n",
    "r = 3   # common ratio\n",
    "\n",
    "for i in range(6):   # 0 se 5 tak (total 6 terms)\n",
    "    term = a * (r ** i)\n",
    "    print(term, end=\" \")\n"
   ]
  },
  {
   "cell_type": "markdown",
   "id": "f6af30ab-eec1-4839-8db5-0849fdc4d7ea",
   "metadata": {},
   "source": [
    "### 11. Write a program that asks the user for a positive integer value. The program should calculate the sum of all the integers from 1 up to the number entered. For example, if the user enters 20, the loop will find the sum of 1, 2, 3, 4, ... 20. "
   ]
  },
  {
   "cell_type": "code",
   "execution_count": 17,
   "id": "248c3ce5-fe1f-4799-900f-5edd21aba23b",
   "metadata": {},
   "outputs": [
    {
     "name": "stdin",
     "output_type": "stream",
     "text": [
      "Enter a positive integer:  20\n"
     ]
    },
    {
     "name": "stdout",
     "output_type": "stream",
     "text": [
      "The sum of numbers from 1 to 20 is: 210\n"
     ]
    }
   ],
   "source": [
    "n = int(input(\"Enter a positive integer: \"))\n",
    "\n",
    "total = 0\n",
    "for i in range(1, n + 1):\n",
    "    total += i   # har number ko add karte jayenge\n",
    "\n",
    "print(\"The sum of numbers from 1 to\", n, \"is:\", total)\n"
   ]
  },
  {
   "cell_type": "markdown",
   "id": "031542f3-4a86-4574-b7ef-2038e9c6f02d",
   "metadata": {},
   "source": [
    "### 12. write a program that takes a positive integer N as input and calculates the sum of the reciprocals of all numbers from 1 up to N. The program should display the final sum. Output of the program should be like: Enter a positive integer: 5 The sum of reciprocals from 1 to 5 is: 2.28"
   ]
  },
  {
   "cell_type": "code",
   "execution_count": 20,
   "id": "171cb374-052c-4fe0-b7cc-064a1f8a59b2",
   "metadata": {},
   "outputs": [
    {
     "name": "stdin",
     "output_type": "stream",
     "text": [
      "Enter a positive integer:  5\n"
     ]
    },
    {
     "name": "stdout",
     "output_type": "stream",
     "text": [
      "The sum of reciprocals from 1 to 5 is: 2.28\n"
     ]
    }
   ],
   "source": [
    "N = int(input(\"Enter a positive integer: \"))\n",
    "\n",
    "total = 0\n",
    "for i in range(1, N + 1):\n",
    "    total += 1 / i   # reciprocal add karte rahenge\n",
    "\n",
    "# Result ko 2 decimal places tak round karte hain\n",
    "print(\"The sum of reciprocals from 1 to\", N, \"is:\", round(total, 2))\n",
    "\n"
   ]
  },
  {
   "cell_type": "markdown",
   "id": "a37ef69d-c239-44b2-a84b-f3e2ed016167",
   "metadata": {},
   "source": [
    "### 13. Write a program that prompts the user to enter a number and repeats this process 5 times. The program should accumulate the numbers entered and then display the final\n",
    "- running total.\n",
    "- Sample Output:\n",
    "- Enter a number: 10\n",
    "- Enter a number: 15\n",
    "- Enter a number: 35\n",
    "- Enter a number: 40\n",
    "- Enter a number: 50\n",
    "- The final running total is: 150 "
   ]
  },
  {
   "cell_type": "code",
   "execution_count": 21,
   "id": "029aaebe-a21e-456d-b31d-682f12590bae",
   "metadata": {},
   "outputs": [
    {
     "name": "stdin",
     "output_type": "stream",
     "text": [
      "Enter a number:  54\n",
      "Enter a number:  26\n",
      "Enter a number:  35\n",
      "Enter a number:  21\n",
      "Enter a number:  54\n"
     ]
    },
    {
     "name": "stdout",
     "output_type": "stream",
     "text": [
      "The final running total is: 190\n"
     ]
    }
   ],
   "source": [
    "total = 0   # shuru mein total 0 hoga\n",
    "\n",
    "for i in range(5):   # 5 dafa input lena hai\n",
    "    num = int(input(\"Enter a number: \"))\n",
    "    total += num     # total mein add karte rahenge\n",
    "\n",
    "print(\"The final running total is:\", total)\n"
   ]
  },
  {
   "cell_type": "markdown",
   "id": "ce985577-1a89-4559-be94-9958706180bf",
   "metadata": {},
   "source": [
    "### 14. Write a program that prompts the user to enter a positive integer and calculates its\n",
    "factorial. The factorial of a positive integer 'n' is denoted as 'n!' and is calculated by\n",
    "multiplying all the integers from 1 to 'n' together. For example, the factorial of 5\n",
    "(denoted as 5!) is calculated as 1 x 2 x 3 x 4 x 5.\n",
    "The program should display the factorial value if the input is a positive number, or\n",
    "display a message stating that the factorial does not exist for negative numbers.\n",
    "Additionally, for an input of zero, the program should output that the factorial of 0 is 1. \n",
    " "
   ]
  },
  {
   "cell_type": "code",
   "execution_count": 23,
   "id": "5f95c6c6-6a05-4d4d-a20b-fc1729ada90e",
   "metadata": {},
   "outputs": [
    {
     "name": "stdin",
     "output_type": "stream",
     "text": [
      "Enter a number:  5\n"
     ]
    },
    {
     "name": "stdout",
     "output_type": "stream",
     "text": [
      "The factorial of 5 is: 120\n"
     ]
    }
   ],
   "source": [
    "n = int(input(\"Enter a number: \"))\n",
    "\n",
    "if n < 0:\n",
    "    print(\"Factorial does not exist for negative numbers.\")\n",
    "elif n == 0:\n",
    "    print(\"The factorial of 0 is 1\")\n",
    "else:\n",
    "    factorial = 1\n",
    "    for i in range(1, n + 1):\n",
    "        factorial *= i\n",
    "    print(\"The factorial of\", n, \"is:\", factorial)\n",
    "\n"
   ]
  },
  {
   "cell_type": "markdown",
   "id": "d0f7fa41-53a6-44e0-893f-c2da7fe61ce8",
   "metadata": {},
   "source": [
    "### 15. Write a Python program that prompts the user to enter a base number and an\n",
    "exponent, and then calculates the power of the base to the exponent. The program\n",
    "should not use the exponentiation operator (**) or the math.pow() function. The\n",
    "program should handle both positive and negative exponents. "
   ]
  },
  {
   "cell_type": "code",
   "execution_count": 24,
   "id": "4cebdf5c-961b-4b50-8790-773efac8618a",
   "metadata": {},
   "outputs": [
    {
     "name": "stdin",
     "output_type": "stream",
     "text": [
      "Enter the base number:  8\n",
      "Enter the exponent:  5\n"
     ]
    },
    {
     "name": "stdout",
     "output_type": "stream",
     "text": [
      "8.0 raised to the power of 5 is: 32768.0\n"
     ]
    }
   ],
   "source": [
    "base = float(input(\"Enter the base number: \"))\n",
    "exp = int(input(\"Enter the exponent: \"))\n",
    "\n",
    "result = 1\n",
    "\n",
    "if exp > 0:\n",
    "    for i in range(exp):\n",
    "        result *= base\n",
    "elif exp < 0:\n",
    "    for i in range(-exp):   # positive bana liya\n",
    "        result *= base\n",
    "    result = 1 / result     # reciprocal le liya\n",
    "else:\n",
    "    result = 1  # exponent = 0 case\n",
    "\n",
    "print(base, \"raised to the power of\", exp, \"is:\", result)\n"
   ]
  },
  {
   "cell_type": "code",
   "execution_count": null,
   "id": "255160be-00f8-4eae-b8b5-0ca21f8f9b94",
   "metadata": {},
   "outputs": [],
   "source": []
  }
 ],
 "metadata": {
  "kernelspec": {
   "display_name": "Python [conda env:base] *",
   "language": "python",
   "name": "conda-base-py"
  },
  "language_info": {
   "codemirror_mode": {
    "name": "ipython",
    "version": 3
   },
   "file_extension": ".py",
   "mimetype": "text/x-python",
   "name": "python",
   "nbconvert_exporter": "python",
   "pygments_lexer": "ipython3",
   "version": "3.13.5"
  }
 },
 "nbformat": 4,
 "nbformat_minor": 5
}

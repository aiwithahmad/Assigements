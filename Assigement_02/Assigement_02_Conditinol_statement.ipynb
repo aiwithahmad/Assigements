{
 "cells": [
  {
   "cell_type": "markdown",
   "id": "13c8d04f-6a2e-4e55-8d7d-bfb8f033b645",
   "metadata": {},
   "source": [
    "#### Q1|A company decided to give bonus of 5% to employee if his/her year of service is more than 5 years. Ask user for their salary and year of service and print the net bonus amount."
   ]
  },
  {
   "cell_type": "code",
   "execution_count": 8,
   "id": "f86f54a7-8b3e-431b-938c-2812c9761bca",
   "metadata": {},
   "outputs": [
    {
     "name": "stdin",
     "output_type": "stream",
     "text": [
      "Apni salary enter karein:  80000\n",
      "Kitne saal say kaam ker rahay hain:  6\n"
     ]
    },
    {
     "name": "stdout",
     "output_type": "stream",
     "text": [
      "Aap ka Bonus amount hai: 4000.0\n"
     ]
    }
   ],
   "source": [
    "salary = float(input(\"Apni salary enter karein: \"))\n",
    "years_of_service = int(input(\"Kitne saal say kaam ker rahay hain: \"))\n",
    "if years_of_service >5:\n",
    "    Bonus = salary * 0.05\n",
    "    print(\"Aap ka Bonus amount hai:\",Bonus)\n",
    "else:\n",
    "    print(\"Aap bonus ke liye eligible nhi hain.\")"
   ]
  },
  {
   "cell_type": "markdown",
   "id": "ede4d5bf-19a2-415f-bb2f-e383566e32e5",
   "metadata": {},
   "source": [
    "#### Q2| Write a program to check whether a person is eligible for voting or not. (accept age from user) if age is greater than 17 eligible otherwise not eligible"
   ]
  },
  {
   "cell_type": "code",
   "execution_count": 12,
   "id": "770c0500-197e-4895-afae-c80b4c627243",
   "metadata": {},
   "outputs": [
    {
     "name": "stdin",
     "output_type": "stream",
     "text": [
      "Enter your age:  56\n"
     ]
    },
    {
     "name": "stdout",
     "output_type": "stream",
     "text": [
      "Eligible for voting\n"
     ]
    }
   ],
   "source": [
    "age = int(input(\"Enter your age: \"))\n",
    "if age >= 17:\n",
    "    print(\"Eligible for voting\")\n",
    "else:\n",
    "    print(\"Not eligible\")"
   ]
  },
  {
   "cell_type": "markdown",
   "id": "d51c0eb9-84f3-4872-824e-eb8dba8b59ad",
   "metadata": {},
   "source": [
    "#### Q3|Write a program to check whether a number entered by user is even or odd."
   ]
  },
  {
   "cell_type": "code",
   "execution_count": 20,
   "id": "5c4850c3-1b5d-4962-bdeb-2cbf6c7ee9bc",
   "metadata": {},
   "outputs": [
    {
     "name": "stdin",
     "output_type": "stream",
     "text": [
      "aik number enter karein:  6\n"
     ]
    },
    {
     "name": "stdout",
     "output_type": "stream",
     "text": [
      "Yeah number Even hai.\n"
     ]
    }
   ],
   "source": [
    "num = int(input(\"aik number enter karein: \"))\n",
    "if num % 2 == 0:\n",
    "    print(\"Yeah number Even hai.\")\n",
    "else:\n",
    "    print(\"Yeah number odd hai.\")"
   ]
  },
  {
   "cell_type": "markdown",
   "id": "ddca2f95-eefc-40e2-8524-109580b3702f",
   "metadata": {},
   "source": [
    "#### Q4| Write a program to check whether a number is divisible by 7 or not. Show Answer"
   ]
  },
  {
   "cell_type": "code",
   "execution_count": 36,
   "id": "a1b17711-e718-43bd-a74b-7a8cd2e9bf15",
   "metadata": {},
   "outputs": [
    {
     "name": "stdin",
     "output_type": "stream",
     "text": [
      "Koi number enter karein:  4\n"
     ]
    },
    {
     "name": "stdout",
     "output_type": "stream",
     "text": [
      "Ye number 7 se divisible nahi hai.\n"
     ]
    }
   ],
   "source": [
    "num = int(input(\"Koi number enter karein: \"))\n",
    "if num % 7 == 0:\n",
    "    print(\"Ye number 7 se divisible hai.\")\n",
    "else:\n",
    "    print(\"Ye number 7 se divisible nahi hai.\")"
   ]
  },
  {
   "cell_type": "markdown",
   "id": "2ccb3763-45bd-4c12-a7e4-3739b2bd143b",
   "metadata": {},
   "source": [
    "#### Q5|Write a program to display \"Hello\" if a number entered by user is a multiple of five , otherwise print \"Bye\"."
   ]
  },
  {
   "cell_type": "code",
   "execution_count": 45,
   "id": "e8b07ac2-68fa-401c-9ecc-a1e419a57846",
   "metadata": {},
   "outputs": [
    {
     "name": "stdin",
     "output_type": "stream",
     "text": [
      "Koi number enter karein:  666\n"
     ]
    },
    {
     "name": "stdout",
     "output_type": "stream",
     "text": [
      "Bye\n"
     ]
    }
   ],
   "source": [
    "num = int(input(\"Koi number enter karein: \"))\n",
    "if num % 5 == 0:\n",
    "    print(\"HELLO\")\n",
    "else:\n",
    "    print(\"Bye\")"
   ]
  },
  {
   "cell_type": "markdown",
   "id": "99bb75d5-f73c-4db0-b8b0-7b73cad810a5",
   "metadata": {},
   "source": [
    "#### Q6|Write a program to display the last digit of a number."
   ]
  },
  {
   "cell_type": "code",
   "execution_count": 54,
   "id": "13abfda0-060c-4bb4-974e-d28c861ec381",
   "metadata": {},
   "outputs": [
    {
     "name": "stdin",
     "output_type": "stream",
     "text": [
      "Koi number enter karein:  654\n"
     ]
    },
    {
     "name": "stdout",
     "output_type": "stream",
     "text": [
      "Last digit hai: 4\n"
     ]
    }
   ],
   "source": [
    "num = int(input(\"Koi number enter karein: \"))\n",
    "last_digit = num % 10\n",
    "print(\"Last digit hai:\", last_digit)"
   ]
  },
  {
   "cell_type": "markdown",
   "id": "62b63f88-f24c-4268-b99d-48244fae8b2e",
   "metadata": {},
   "source": [
    "#### Q7|Take values of length and breadth of a rectangle from user and print if it is square or rectangle."
   ]
  },
  {
   "cell_type": "code",
   "execution_count": 58,
   "id": "5779f526-6cf8-4524-bfec-2e7aa536b297",
   "metadata": {},
   "outputs": [
    {
     "name": "stdin",
     "output_type": "stream",
     "text": [
      "length enter karain:  84\n",
      "breadth enter karein:  44\n"
     ]
    },
    {
     "name": "stdout",
     "output_type": "stream",
     "text": [
      "yeah aik Rectangle hai.\n"
     ]
    }
   ],
   "source": [
    "length = float(input(\"length enter karain: \"))\n",
    "breadth = float(input(\"breadth enter karein: \"))\n",
    "if length == breadth:\n",
    "    print(\"yeah aik Square hai.\")\n",
    "else:\n",
    "    print(\"yeah aik Rectangle hai.\")"
   ]
  },
  {
   "cell_type": "markdown",
   "id": "9e0ed83b-9ea6-43ac-8e63-b03026af0820",
   "metadata": {},
   "source": [
    "#### Q8|Take two int values from user and print greatest among them."
   ]
  },
  {
   "cell_type": "code",
   "execution_count": 64,
   "id": "907a91b8-6061-44a5-b489-d8f8b46dcb8c",
   "metadata": {},
   "outputs": [
    {
     "name": "stdin",
     "output_type": "stream",
     "text": [
      "Pehla num enter karien:  5\n",
      "Doosra num enter karein:  5\n"
     ]
    },
    {
     "name": "stdout",
     "output_type": "stream",
     "text": [
      "Dono num barber hain.\n"
     ]
    }
   ],
   "source": [
    "num1 = int(input(\"Pehla num enter karien: \"))\n",
    "num2 = int(input(\"Doosra num enter karein: \"))\n",
    "if num1 > num2:\n",
    "    print(\"Bada num hai.\",num1)\n",
    "elif num2 > num1:\n",
    "    print(\"Bada num hai.\",num2)\n",
    "else:\n",
    "    print(\"Dono num barber hain.\")"
   ]
  },
  {
   "cell_type": "markdown",
   "id": "d82b3acf-d2a7-4aea-986a-61123838c3b8",
   "metadata": {},
   "source": [
    "#### Q9|A shop will give discount of 10% if the cost of purchased quantity is more than 1000. Ask user for quantity Suppose, one unit will cost 100. Judge and print total cost for user."
   ]
  },
  {
   "cell_type": "code",
   "execution_count": 2,
   "id": "4a99ba24-0cce-4d9f-94e7-b5739090c170",
   "metadata": {},
   "outputs": [
    {
     "name": "stdin",
     "output_type": "stream",
     "text": [
      "Quantity enter karein 11\n"
     ]
    },
    {
     "name": "stdout",
     "output_type": "stream",
     "text": [
      "Total cost hai: 990.0\n"
     ]
    }
   ],
   "source": [
    "Quantity = int(input(\"Quantity enter karein\"))\n",
    "unit_price = 100\n",
    "total_cost = Quantity * unit_price\n",
    "if total_cost > 1000:\n",
    "    discount = total_cost * 0.10\n",
    "    total_cost -= discount\n",
    "    print(\"Total cost hai:\", total_cost)\n",
    "else:\n",
    "    print(\"No Discount\") "
   ]
  },
  {
   "cell_type": "markdown",
   "id": "8f69151d-c7a7-4b10-beb7-e9d83c4c6fde",
   "metadata": {},
   "source": [
    "##### Q10|A school has following rules for grading system:"
   ]
  },
  {
   "cell_type": "markdown",
   "id": "24d349ff-1684-4e6c-8377-4d77de113329",
   "metadata": {},
   "source": [
    "- Below 25 - F\n",
    "- 25 to 45 - E\n",
    "- 45 to 50 - D\n",
    "- 50 to 60 - C\n",
    "- 60 to 80 - B\n",
    "- Above 80 - A"
   ]
  },
  {
   "cell_type": "code",
   "execution_count": 95,
   "id": "67610e7b-42fa-4a00-8a3e-fafab8771bb1",
   "metadata": {},
   "outputs": [
    {
     "name": "stdin",
     "output_type": "stream",
     "text": [
      "Enter your marks 98\n"
     ]
    },
    {
     "name": "stdout",
     "output_type": "stream",
     "text": [
      "your Marks is 98 and your grade is A\n"
     ]
    }
   ],
   "source": [
    "marks = int(input(\"Enter your marks\"))\n",
    "if marks>=0 and marks<=25:\n",
    "    print(f\"your Marks is {marks} and your grade is F\")\n",
    "elif marks>=25 and marks<=45:\n",
    "    print(f\"your Marks is {marks} and your grade is E\")\n",
    "elif marks>=45 and marks<=50:\n",
    "    print(f\"your Marks is {marks} and your grade is D\")\n",
    "elif marks>=50 and marks<=60:\n",
    "    print(f\"your Marks is {marks} and your grade is C\")\n",
    "elif marks>=60 and marks<=80:\n",
    "    print(f\"your Marks is {marks} and your grade is B\")\n",
    "elif marks>=80 and marks<=100:\n",
    "    print(f\"your Marks is {marks} and your grade is A\")\n",
    "else:\n",
    "    print(\"Invalid input\")"
   ]
  },
  {
   "cell_type": "markdown",
   "id": "712277ea-390d-4b76-b43d-df978fca37a2",
   "metadata": {},
   "source": [
    "#### Q11|A student will not be allowed to sit in exam if his/her attendence is less than 75%.\n",
    "\n",
    "- Take following input from user\n",
    "- Number of classes held\n",
    "- Number of classes attended.\n",
    "- And print\n",
    "- percentage of class attended\n",
    "- Is student is allowed to sit in exam or not."
   ]
  },
  {
   "cell_type": "code",
   "execution_count": 104,
   "id": "d0403dbf-7d42-403f-bbe4-51f259ca34af",
   "metadata": {},
   "outputs": [
    {
     "name": "stdin",
     "output_type": "stream",
     "text": [
      "Number of classes held:  45\n",
      "Number of classes attend:  37\n"
     ]
    },
    {
     "name": "stdout",
     "output_type": "stream",
     "text": [
      "Attendence_percentrage 82.22222222222221 %\n",
      "Student is allowed to sit in exam.\n"
     ]
    }
   ],
   "source": [
    "classes_held = int(input(\"Number of classes held: \"))\n",
    "classes_attend = int(input(\"Number of classes attend: \"))\n",
    "attendence_percentrage = (classes_attend/classes_held) * 100\n",
    "print(\"Attendence_percentrage\", attendence_percentrage, \"%\")\n",
    "if attendence_percentrage >= 75:\n",
    "    print(\"Student is allowed to sit in exam.\")\n",
    "else:\n",
    "    print(\"Student is NOT allowed to sit in exam.\")"
   ]
  },
  {
   "cell_type": "markdown",
   "id": "32888794-3783-4057-afea-2f17a29287f5",
   "metadata": {},
   "source": [
    "#### Q12|Modify the above question to allow student to sit if he/she has medical cause. Ask user if he/she has medical cause or not ( 'Y' or 'N' ) and print accordingly"
   ]
  },
  {
   "cell_type": "code",
   "execution_count": 106,
   "id": "cd2e9512-edc2-4e49-91c7-3662a557dd4b",
   "metadata": {},
   "outputs": [
    {
     "name": "stdin",
     "output_type": "stream",
     "text": [
      "Number of classes held:  85\n",
      "Number of classes attended:  58\n",
      "Kya aap ke paas medical cause hai? (Y/N):  n\n"
     ]
    },
    {
     "name": "stdout",
     "output_type": "stream",
     "text": [
      "Attendance percentage: 68.23529411764706 %\n",
      "Student is NOT allowed to sit in exam.\n"
     ]
    }
   ],
   "source": [
    "classes_held = int(input(\"Number of classes held: \"))\n",
    "classes_attended = int(input(\"Number of classes attended: \"))\n",
    "medical_cause = input(\"Kya aap ke paas medical cause hai? (Y/N): \").strip().upper()\n",
    "\n",
    "attendance_percentage = (classes_attended / classes_held) * 100\n",
    "\n",
    "print(\"Attendance percentage:\", attendance_percentage, \"%\")\n",
    "\n",
    "if attendance_percentage >= 75 or medical_cause == \"Y\":\n",
    "    print(\"Student is allowed to sit in exam.\")\n",
    "else:\n",
    "    print(\"Student is NOT allowed to sit in exam.\")\n"
   ]
  },
  {
   "cell_type": "code",
   "execution_count": 14,
   "id": "2f0e865a-e230-4f19-939d-766f9d27279e",
   "metadata": {},
   "outputs": [
    {
     "name": "stdin",
     "output_type": "stream",
     "text": [
      "Number of classes held:  85\n",
      "Number of classes attend:  47\n",
      "Kya aap kay paas medical cause hai? (Y/N):  Y\n"
     ]
    },
    {
     "name": "stdout",
     "output_type": "stream",
     "text": [
      "attendance_percentage: 55.294117647058826 %\n",
      "Student is allowed to sit in exam.\n"
     ]
    }
   ],
   "source": [
    "classes_held = int(input(\"Number of classes held: \"))\n",
    "classes_attend = int(input(\"Number of classes attend: \"))\n",
    "madical_cause = input(\"Kya aap kay paas medical cause hai? (Y/N): \").strip().upper()\n",
    "\n",
    "attendance_percentage = (classes_attend / classes_held) * 100\n",
    "\n",
    "print(\"attendance_percentage:\", attendance_percentage, \"%\")\n",
    "\n",
    "if attendance_percentage >= 75 or madical_cause == \"Y\":\n",
    "    print(\"Student is allowed to sit in exam.\")\n",
    "else:\n",
    "    print(\"Student is not allowed to sit in exam.\")\n",
    "    "
   ]
  },
  {
   "cell_type": "markdown",
   "id": "c1db8d06-433f-4761-817c-487dc1a1b107",
   "metadata": {},
   "source": [
    "#### Q13|Write a program to check if a year is leap year or not.\n",
    "If a year is divisible by 4 then it is leap year but if the year is century year like 2000, 1900, 2100 then it must be divisible by 400."
   ]
  },
  {
   "cell_type": "code",
   "execution_count": 6,
   "id": "51a34e02-e8d0-4178-8012-98e772f6d3b2",
   "metadata": {},
   "outputs": [
    {
     "name": "stdin",
     "output_type": "stream",
     "text": [
      "Enter a year:  2000\n"
     ]
    },
    {
     "name": "stdout",
     "output_type": "stream",
     "text": [
      "2000 is a Leap Year\n"
     ]
    }
   ],
   "source": [
    "year = int(input(\"Enter a year: \"))\n",
    "\n",
    "if (year % 400 == 0) or (year % 4 == 0 and year % 100 != 0):\n",
    "    print(f\"{year} is a Leap Year\")\n",
    "else:\n",
    "    print(f\"{year} is NOT a Leap Year\")\n"
   ]
  },
  {
   "cell_type": "markdown",
   "id": "58943761-cdc6-4497-ae80-7af97d846237",
   "metadata": {},
   "source": [
    "#### Q14|Ask user to enter age, gender ( M or F ), marital status ( Y or N ) and then using following rules print their place of service.\n",
    "- if employee is female, then she will work only in urban areas.\n",
    "\n",
    "- if employee is a male and age is in between 20 to 40 then he may work in anywhere\n",
    "\n",
    "- if employee is male and age is in between 40 t0 60 then he will work in urban areas only.\n",
    "\n",
    "- And any other input of age should print \"ERROR\""
   ]
  },
  {
   "cell_type": "code",
   "execution_count": 9,
   "id": "3c3f2778-a4a8-4fe5-9db1-66e0c52310ac",
   "metadata": {},
   "outputs": [
    {
     "name": "stdin",
     "output_type": "stream",
     "text": [
      "Enter your age:  40\n",
      "Enter your gender (M/F):  F\n",
      "Enter your marital status (Y/N):  N\n"
     ]
    },
    {
     "name": "stdout",
     "output_type": "stream",
     "text": [
      "She will work only in urban areas.\n"
     ]
    }
   ],
   "source": [
    "age = int(input(\"Enter your age: \"))\n",
    "gender = input(\"Enter your gender (M/F): \")\n",
    "marital_status = input(\"Enter your marital status (Y/N): \")\n",
    "\n",
    "if gender == \"F\":\n",
    "    print(\"She will work only in urban areas.\")\n",
    "elif gender == \"M\":\n",
    "    if 20 <= age <= 40:\n",
    "        print(\"He may work anywhere.\")\n",
    "    elif 40 < age <= 60:\n",
    "        print(\"He will work only in urban areas.\")\n",
    "    else:\n",
    "        print(\"ERROR\")\n",
    "else:\n",
    "    print(\"ERROR\")\n"
   ]
  },
  {
   "cell_type": "markdown",
   "id": "de6d9668-59cc-4efb-9db2-431d3aa167d9",
   "metadata": {},
   "source": [
    "#### Q15|Write a program to calculate the electricity bill (accept number of unit from user) according to the following criteria : Unit Price\n",
    "uptp 100 units no charge Next 200 units Rs 5 per unit After 200 units Rs 10 per unit (For example if input unit is 350 than total bill amount is Rs.3500 (For example if input unit is 97 than total bill amount is Rs.0 (For example if input unit is 150 than total bill amount is Rs.750"
   ]
  },
  {
   "cell_type": "code",
   "execution_count": 38,
   "id": "00d19d3f-c9e1-46d4-a3a1-7498348e76dd",
   "metadata": {},
   "outputs": [
    {
     "name": "stdin",
     "output_type": "stream",
     "text": [
      "Enter number of units used:  301\n"
     ]
    },
    {
     "name": "stdout",
     "output_type": "stream",
     "text": [
      "Total bill amount = Rs.1010\n"
     ]
    }
   ],
   "source": [
    "# Electricity bill calculator\n",
    "\n",
    "# Step 1: Input from user\n",
    "units = int(input(\"Enter number of units used: \"))\n",
    "\n",
    "# Step 2: Calculate bill\n",
    "if units <= 100:\n",
    "    bill = 0\n",
    "elif units <= 300:\n",
    "    bill = (units - 100) * 5\n",
    "else:\n",
    "    bill = (200 * 5) + ((units - 300) * 10)\n",
    "\n",
    "# Step 3: Output\n",
    "print(f\"Total bill amount = Rs.{bill}\")\n"
   ]
  },
  {
   "cell_type": "code",
   "execution_count": 40,
   "id": "7b06929c-81ee-4305-9b62-e272efb5305c",
   "metadata": {},
   "outputs": [
    {
     "name": "stdin",
     "output_type": "stream",
     "text": [
      "Enter number of units used:  500\n"
     ]
    },
    {
     "name": "stdout",
     "output_type": "stream",
     "text": [
      "Total bill amount = Rs.3000\n"
     ]
    }
   ],
   "source": [
    "units = int(input(\"Enter number of units used: \"))\n",
    "\n",
    "if units <= 100:\n",
    "    bill = 0\n",
    "elif units <= 300:\n",
    "    bill = (units - 100) * 5\n",
    "else:\n",
    "    bill = (200 * 5) + ((units - 300) * 10)\n",
    "\n",
    "print(f\"Total bill amount = Rs.{bill}\")"
   ]
  },
  {
   "cell_type": "markdown",
   "id": "df9f78e9-7376-48c5-973d-9f79829b7976",
   "metadata": {},
   "source": [
    "#### Q16|Take input of age of 3 people by user and determine oldest and youngest among them."
   ]
  },
  {
   "cell_type": "code",
   "execution_count": 41,
   "id": "c9e7eb85-96a6-4d08-bba0-fa949a50a76b",
   "metadata": {},
   "outputs": [
    {
     "name": "stdin",
     "output_type": "stream",
     "text": [
      "Pehle bande ki age likho:  12\n",
      "Dusre bande ki age likho:  15\n",
      "Teesre bande ki age likho:  17\n"
     ]
    },
    {
     "name": "stdout",
     "output_type": "stream",
     "text": [
      "Sabse bara (Oldest) banda ki age hai: 17\n",
      "Sabse chota (Youngest) banda ki age hai: 12\n"
     ]
    }
   ],
   "source": [
    "# 3 logon ki age input lena\n",
    "age1 = int(input(\"Pehle bande ki age likho: \"))\n",
    "age2 = int(input(\"Dusre bande ki age likho: \"))\n",
    "age3 = int(input(\"Teesre bande ki age likho: \"))\n",
    "\n",
    "# Sabse bara aur sabse chota find karna\n",
    "oldest = max(age1, age2, age3)\n",
    "youngest = min(age1, age2, age3)\n",
    "\n",
    "# Result print karna\n",
    "print(\"Sabse bara (Oldest) banda ki age hai:\", oldest)\n",
    "print(\"Sabse chota (Youngest) banda ki age hai:\", youngest)\n",
    "\n"
   ]
  },
  {
   "cell_type": "code",
   "execution_count": 44,
   "id": "d0939aeb-6bc0-463f-8bd0-1ab88f56ab13",
   "metadata": {},
   "outputs": [
    {
     "name": "stdin",
     "output_type": "stream",
     "text": [
      "Pehle bande ki age likho:  8\n",
      "Dusre bande ki age likho:  7\n",
      "Teesre bande ki age likho:  6\n"
     ]
    },
    {
     "name": "stdout",
     "output_type": "stream",
     "text": [
      "Sabsay Bara (Oldest) banda ki age hai: 8\n",
      "Sabsay Chota (Youngest) banda ki age hai: 6\n"
     ]
    }
   ],
   "source": [
    "age1 = int(input(\"Pehle bande ki age likho: \"))\n",
    "age2 = int(input(\"Dusre bande ki age likho: \"))\n",
    "age3 = int(input(\"Teesre bande ki age likho: \"))\n",
    "oldest = max(age1, age2, age3)\n",
    "youngest = min(age1, age2, age3)\n",
    "\n",
    "print(\"Sabsay Bara (Oldest) banda ki age hai:\", oldest)\n",
    "print(\"Sabsay Chota (Youngest) banda ki age hai:\", youngest)"
   ]
  },
  {
   "cell_type": "code",
   "execution_count": null,
   "id": "bc6fd0ce-f3c7-4716-a48f-d50a33ca6590",
   "metadata": {},
   "outputs": [],
   "source": []
  }
 ],
 "metadata": {
  "kernelspec": {
   "display_name": "Python [conda env:base] *",
   "language": "python",
   "name": "conda-base-py"
  },
  "language_info": {
   "codemirror_mode": {
    "name": "ipython",
    "version": 3
   },
   "file_extension": ".py",
   "mimetype": "text/x-python",
   "name": "python",
   "nbconvert_exporter": "python",
   "pygments_lexer": "ipython3",
   "version": "3.13.5"
  }
 },
 "nbformat": 4,
 "nbformat_minor": 5
}

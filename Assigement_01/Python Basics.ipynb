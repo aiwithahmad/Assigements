{
 "cells": [
  {
   "cell_type": "markdown",
   "id": "9727c9ef-3d3d-4daf-81f8-a61f5bb4b6d3",
   "metadata": {},
   "source": [
    "### 1 Print Your Name with your Father name and Date of birth using suitable escape sequence charactor"
   ]
  },
  {
   "cell_type": "code",
   "execution_count": 2,
   "id": "6cd51ec2-0b12-4191-ab06-5f0e70205ed7",
   "metadata": {},
   "outputs": [
    {
     "name": "stdout",
     "output_type": "stream",
     "text": [
      "Name:\t\tAhmad\n",
      "Father's Name:\tAbdul Ahad\n",
      "Date of Birth:\t01/01/1997\n"
     ]
    }
   ],
   "source": [
    "name = \"Ahmad\"\n",
    "father = \"Abdul Ahad\"\n",
    "dob = \"01/01/1997\"\n",
    "print(f\"Name:\\t\\t{name}\\nFather\\'s Name:\\t{father}\\nDate of Birth:\\t{dob}\")"
   ]
  },
  {
   "cell_type": "markdown",
   "id": "8c1b9a83-4db8-4774-af46-13f4a167c232",
   "metadata": {},
   "source": [
    "### 2 Write your small bio using variables and print it using print function"
   ]
  },
  {
   "cell_type": "code",
   "execution_count": 1,
   "id": "15d71f8f-6742-4e68-9b5e-356499e8b26d",
   "metadata": {},
   "outputs": [
    {
     "name": "stdout",
     "output_type": "stream",
     "text": [
      "Name :Ahmad\n",
      "AGE : 20\n",
      "Country : Pakistan\n",
      "Hobby : Cloud Data Engineering\n"
     ]
    }
   ],
   "source": [
    "name = \"Ahmad\"\n",
    "age = \"20\"\n",
    "country = \"Pakistan\"\n",
    "hobby = \"Cloud Data Engineering\"\n",
    "\n",
    "print(\"Name :\"+name)\n",
    "print(\"AGE :\" ,age)\n",
    "print(\"Country :\" ,country)\n",
    "print(\"Hobby :\" ,hobby)"
   ]
  },
  {
   "cell_type": "markdown",
   "id": "5dacdd8c-218c-41eb-872c-ec9446fe6129",
   "metadata": {},
   "source": [
    "### 3 Write a program in which use all the operators we can use in Python"
   ]
  },
  {
   "cell_type": "code",
   "execution_count": 5,
   "id": "c56aef5c-35fd-4773-838b-1ef1bbcd927e",
   "metadata": {},
   "outputs": [
    {
     "data": {
      "text/plain": [
       "('p is not q:', True)"
      ]
     },
     "execution_count": 5,
     "metadata": {},
     "output_type": "execute_result"
    }
   ],
   "source": [
    "# ----- Python Operators Example -----\n",
    "\n",
    "a = 10\n",
    "b = 3\n",
    "\n",
    "(\"----- Arithmetic Operators -----\")\n",
    "(\"Addition:\", a + b)\n",
    "(\"Subtraction:\", a - b)\n",
    "(\"Multiplication:\", a * b)\n",
    "(\"Division:\", a / b)\n",
    "(\"Floor Division:\", a // b)\n",
    "(\"Modulus (Remainder):\", a % b)\n",
    "(\"Exponent (Power):\", a ** b)\n",
    "\n",
    "(\"\\n----- Comparison Operators -----\")\n",
    "(\"Equal:\", a == b)\n",
    "(\"Not Equal:\", a != b)\n",
    "(\"Greater than:\", a > b)\n",
    "(\"Less than:\", a < b)\n",
    "(\"Greater or Equal:\", a >= b)\n",
    "(\"Less or Equal:\", a <= b)\n",
    "\n",
    "(\"\\n----- Logical Operators -----\")\n",
    "x = True\n",
    "y = False\n",
    "(\"AND:\", x and y)\n",
    "(\"OR:\", x or y)\n",
    "(\"NOT:\", not x)\n",
    "\n",
    "(\"\\n----- Assignment Operators -----\")\n",
    "c = 5\n",
    "(\"Initial c:\", c)\n",
    "c += 2   # c = c + 2\n",
    "(\"c += 2:\", c)\n",
    "c -= 1   # c = c - 1\n",
    "(\"c -= 1:\", c)\n",
    "c *= 3   # c = c * 3\n",
    "(\"c *= 3:\", c)\n",
    "c /= 2   # c = c / 2\n",
    "(\"c /= 2:\", c)\n",
    "c %= 4   # c = c % 4\n",
    "(\"c %= 4:\", c)\n",
    "c **= 2  # c = c ** 2\n",
    "(\"c **= 2:\", c)\n",
    "c //= 3  # c = c // 3\n",
    "(\"c //= 3:\", c)\n",
    "\n",
    "(\"\\n----- Bitwise Operators -----\")\n",
    "m = 6   # 110 (binary)\n",
    "n = 3   # 011 (binary)\n",
    "(\"Bitwise AND:\", m & n)\n",
    "(\"Bitwise OR:\", m | n)\n",
    "(\"Bitwise XOR:\", m ^ n)\n",
    "(\"Bitwise NOT (~m):\", ~m)\n",
    "(\"Bitwise Left Shift (m << 1):\", m << 1)\n",
    "(\"Bitwise Right Shift (m >> 1):\", m >> 1)\n",
    "\n",
    "(\"\\n----- Membership Operators -----\")\n",
    "nums = [1, 2, 3, 4, 5]\n",
    "(\"Is 3 in nums?\", 3 in nums)\n",
    "(\"Is 10 not in nums?\", 10 not in nums)\n",
    "\n",
    "(\"\\n----- Identity Operators -----\")\n",
    "p = [1, 2, 3]\n",
    "q = [1, 2, 3]\n",
    "r = p\n",
    "(\"p is q:\", p is q)      # Different objects (False)\n",
    "(\"p == q:\", p == q)      # Values are same (True)\n",
    "(\"p is r:\", p is r)      # Same object (True)\n",
    "(\"p is not q:\", p is not q) \n"
   ]
  },
  {
   "cell_type": "markdown",
   "id": "4c13c3ae-051e-4c8a-b140-8517bf4b90bd",
   "metadata": {},
   "source": [
    "### 4 Completes the following steps of small task:\n",
    "Mention Marks of English , Islamiat and Maths out of 100 in 3 different variables\n",
    "Mention Variable of Total Marks and assign 300 to it\n",
    "Calculate Percentage"
   ]
  },
  {
   "cell_type": "code",
   "execution_count": 19,
   "id": "43dfd021-034a-4f74-be48-33be64eb13ea",
   "metadata": {},
   "outputs": [
    {
     "name": "stdout",
     "output_type": "stream",
     "text": [
      "58.0\n"
     ]
    }
   ],
   "source": [
    "english = 55\n",
    "islamiat = 46\n",
    "math = 73\n",
    "\n",
    "total_marks = 300 \n",
    "percentge =((english + islamiat + math) / total_marks) * 100\n",
    "print(round(percentge, 2))"
   ]
  },
  {
   "cell_type": "code",
   "execution_count": null,
   "id": "d3cc6f82-6b39-4156-9bd8-e947d0e95e11",
   "metadata": {},
   "outputs": [],
   "source": []
  }
 ],
 "metadata": {
  "kernelspec": {
   "display_name": "Python [conda env:base] *",
   "language": "python",
   "name": "conda-base-py"
  },
  "language_info": {
   "codemirror_mode": {
    "name": "ipython",
    "version": 3
   },
   "file_extension": ".py",
   "mimetype": "text/x-python",
   "name": "python",
   "nbconvert_exporter": "python",
   "pygments_lexer": "ipython3",
   "version": "3.13.5"
  }
 },
 "nbformat": 4,
 "nbformat_minor": 5
}
